{
 "cells": [
  {
   "cell_type": "code",
   "execution_count": 1,
   "metadata": {},
   "outputs": [],
   "source": [
    "import numpy as np\n",
    "import pandas as pd\n",
    "import matplotlib.pyplot as plt"
   ]
  },
  {
   "cell_type": "code",
   "execution_count": 2,
   "metadata": {},
   "outputs": [
    {
     "name": "stdout",
     "output_type": "stream",
     "text": [
      "   id  bone_length  rotting_flesh  hair_length  has_soul  color    type\n",
      "0   0     0.354512       0.350839     0.465761  0.781142  clear   Ghoul\n",
      "1   1     0.575560       0.425868     0.531401  0.439899  green  Goblin\n",
      "2   2     0.467875       0.354330     0.811616  0.791225  black   Ghoul\n",
      "3   4     0.776652       0.508723     0.636766  0.884464  black   Ghoul\n",
      "4   5     0.566117       0.875862     0.418594  0.636438  green   Ghost\n"
     ]
    }
   ],
   "source": [
    "data = pd.read_csv('train.csv')\n",
    "print(data.head())"
   ]
  },
  {
   "cell_type": "code",
   "execution_count": 3,
   "metadata": {},
   "outputs": [
    {
     "data": {
      "text/plain": [
       "id               0\n",
       "bone_length      0\n",
       "rotting_flesh    0\n",
       "hair_length      0\n",
       "has_soul         0\n",
       "color            0\n",
       "type             0\n",
       "dtype: int64"
      ]
     },
     "execution_count": 3,
     "metadata": {},
     "output_type": "execute_result"
    }
   ],
   "source": [
    "data.isnull().sum()"
   ]
  },
  {
   "cell_type": "code",
   "execution_count": 4,
   "metadata": {},
   "outputs": [
    {
     "data": {
      "text/html": [
       "<div>\n",
       "<style scoped>\n",
       "    .dataframe tbody tr th:only-of-type {\n",
       "        vertical-align: middle;\n",
       "    }\n",
       "\n",
       "    .dataframe tbody tr th {\n",
       "        vertical-align: top;\n",
       "    }\n",
       "\n",
       "    .dataframe thead th {\n",
       "        text-align: right;\n",
       "    }\n",
       "</style>\n",
       "<table border=\"1\" class=\"dataframe\">\n",
       "  <thead>\n",
       "    <tr style=\"text-align: right;\">\n",
       "      <th></th>\n",
       "      <th>id</th>\n",
       "      <th>bone_length</th>\n",
       "      <th>rotting_flesh</th>\n",
       "      <th>hair_length</th>\n",
       "      <th>has_soul</th>\n",
       "    </tr>\n",
       "  </thead>\n",
       "  <tbody>\n",
       "    <tr>\n",
       "      <th>count</th>\n",
       "      <td>371.000000</td>\n",
       "      <td>371.000000</td>\n",
       "      <td>371.000000</td>\n",
       "      <td>371.000000</td>\n",
       "      <td>371.000000</td>\n",
       "    </tr>\n",
       "    <tr>\n",
       "      <th>mean</th>\n",
       "      <td>443.676550</td>\n",
       "      <td>0.434160</td>\n",
       "      <td>0.506848</td>\n",
       "      <td>0.529114</td>\n",
       "      <td>0.471392</td>\n",
       "    </tr>\n",
       "    <tr>\n",
       "      <th>std</th>\n",
       "      <td>263.222489</td>\n",
       "      <td>0.132833</td>\n",
       "      <td>0.146358</td>\n",
       "      <td>0.169902</td>\n",
       "      <td>0.176129</td>\n",
       "    </tr>\n",
       "    <tr>\n",
       "      <th>min</th>\n",
       "      <td>0.000000</td>\n",
       "      <td>0.061032</td>\n",
       "      <td>0.095687</td>\n",
       "      <td>0.134600</td>\n",
       "      <td>0.009402</td>\n",
       "    </tr>\n",
       "    <tr>\n",
       "      <th>25%</th>\n",
       "      <td>205.500000</td>\n",
       "      <td>0.340006</td>\n",
       "      <td>0.414812</td>\n",
       "      <td>0.407428</td>\n",
       "      <td>0.348002</td>\n",
       "    </tr>\n",
       "    <tr>\n",
       "      <th>50%</th>\n",
       "      <td>458.000000</td>\n",
       "      <td>0.434891</td>\n",
       "      <td>0.501552</td>\n",
       "      <td>0.538642</td>\n",
       "      <td>0.466372</td>\n",
       "    </tr>\n",
       "    <tr>\n",
       "      <th>75%</th>\n",
       "      <td>678.500000</td>\n",
       "      <td>0.517223</td>\n",
       "      <td>0.603977</td>\n",
       "      <td>0.647244</td>\n",
       "      <td>0.600610</td>\n",
       "    </tr>\n",
       "    <tr>\n",
       "      <th>max</th>\n",
       "      <td>897.000000</td>\n",
       "      <td>0.817001</td>\n",
       "      <td>0.932466</td>\n",
       "      <td>1.000000</td>\n",
       "      <td>0.935721</td>\n",
       "    </tr>\n",
       "  </tbody>\n",
       "</table>\n",
       "</div>"
      ],
      "text/plain": [
       "               id  bone_length  rotting_flesh  hair_length    has_soul\n",
       "count  371.000000   371.000000     371.000000   371.000000  371.000000\n",
       "mean   443.676550     0.434160       0.506848     0.529114    0.471392\n",
       "std    263.222489     0.132833       0.146358     0.169902    0.176129\n",
       "min      0.000000     0.061032       0.095687     0.134600    0.009402\n",
       "25%    205.500000     0.340006       0.414812     0.407428    0.348002\n",
       "50%    458.000000     0.434891       0.501552     0.538642    0.466372\n",
       "75%    678.500000     0.517223       0.603977     0.647244    0.600610\n",
       "max    897.000000     0.817001       0.932466     1.000000    0.935721"
      ]
     },
     "execution_count": 4,
     "metadata": {},
     "output_type": "execute_result"
    }
   ],
   "source": [
    "data.describe()"
   ]
  },
  {
   "cell_type": "code",
   "execution_count": 5,
   "metadata": {},
   "outputs": [
    {
     "name": "stdout",
     "output_type": "stream",
     "text": [
      "   bone_length  rotting_flesh  hair_length  has_soul  color    type\n",
      "0     0.354512       0.350839     0.465761  0.781142  clear   Ghoul\n",
      "1     0.575560       0.425868     0.531401  0.439899  green  Goblin\n",
      "2     0.467875       0.354330     0.811616  0.791225  black   Ghoul\n",
      "3     0.776652       0.508723     0.636766  0.884464  black   Ghoul\n",
      "4     0.566117       0.875862     0.418594  0.636438  green   Ghost\n"
     ]
    }
   ],
   "source": [
    "data = data.drop('id',axis = 1)\n",
    "print(data.head())"
   ]
  },
  {
   "cell_type": "code",
   "execution_count": 6,
   "metadata": {},
   "outputs": [],
   "source": [
    "x = data.drop('type',axis=1)\n",
    "y= data['type']\n"
   ]
  },
  {
   "cell_type": "code",
   "execution_count": 7,
   "metadata": {},
   "outputs": [
    {
     "name": "stdout",
     "output_type": "stream",
     "text": [
      "0    clear\n",
      "1    green\n",
      "2    black\n",
      "3    black\n",
      "4    green\n",
      "Name: color, dtype: object\n",
      "0    black\n",
      "1    white\n",
      "2    black\n",
      "3    white\n",
      "4    black\n",
      "Name: color, dtype: object\n"
     ]
    }
   ],
   "source": [
    "from sklearn.preprocessing import LabelEncoder\n",
    "test = pd.read_csv('test.csv')\n",
    "xx = LabelEncoder()\n",
    "\n",
    "print(x['color'][:5])\n",
    "print(test['color'][:5])\n",
    "x['color'] = xx.fit_transform(x['color'])\n",
    "test['color'] = xx.fit_transform(test['color'])\n",
    "x['color']=x['color']/10\n",
    "test['color']=test['color']/10\n",
    "\n",
    "#x=pd.get_dummies(x,prefix = ['color'])\n",
    "#test =pd.get_dummies(test,prefix = ['color'])\n",
    "\n",
    "\n",
    "test_id = test['id']\n",
    "test = test.drop('id',axis = 1)\n",
    "\n",
    "\n"
   ]
  },
  {
   "cell_type": "code",
   "execution_count": 8,
   "metadata": {},
   "outputs": [
    {
     "name": "stdout",
     "output_type": "stream",
     "text": [
      "   bone_length  rotting_flesh  hair_length  has_soul  color\n",
      "0     0.354512       0.350839     0.465761  0.781142    0.3\n",
      "1     0.575560       0.425868     0.531401  0.439899    0.4\n",
      "2     0.467875       0.354330     0.811616  0.791225    0.0\n",
      "3     0.776652       0.508723     0.636766  0.884464    0.0\n",
      "4     0.566117       0.875862     0.418594  0.636438    0.4\n"
     ]
    }
   ],
   "source": [
    "print(x.head())"
   ]
  },
  {
   "cell_type": "code",
   "execution_count": 9,
   "metadata": {},
   "outputs": [
    {
     "name": "stdout",
     "output_type": "stream",
     "text": [
      "[1 2 1 1 0]\n"
     ]
    }
   ],
   "source": [
    "from sklearn.preprocessing import LabelEncoder\n",
    "le = LabelEncoder()\n",
    "y = le.fit_transform(y)\n",
    "print(y[:5])"
   ]
  },
  {
   "cell_type": "code",
   "execution_count": 10,
   "metadata": {},
   "outputs": [],
   "source": [
    "from sklearn.model_selection import cross_val_score\n",
    "from sklearn.neighbors import KNeighborsClassifier\n",
    "from sklearn.svm import SVC\n",
    "from sklearn.linear_model import LogisticRegression\n",
    "from sklearn.tree import DecisionTreeClassifier\n",
    "from sklearn.ensemble import RandomForestClassifier\n",
    "from sklearn.naive_bayes import MultinomialNB\n",
    "\n"
   ]
  },
  {
   "cell_type": "code",
   "execution_count": 11,
   "metadata": {},
   "outputs": [
    {
     "name": "stdout",
     "output_type": "stream",
     "text": [
      "KNN:0.6846249537208441\n",
      "SVM:0.7572765642354684\n",
      "Logistic Regression:0.7410252992718747\n",
      "Decision Tree:0.6039333580155499\n",
      "Random Forest:0.6980673824509441\n",
      "Naive Bayes:0.5279955572010366\n"
     ]
    }
   ],
   "source": [
    "classifiers = {\n",
    "    \"KNN\":KNeighborsClassifier(),\n",
    "    \"SVM\":SVC(kernel='linear'),\n",
    "    \"Logistic Regression\":LogisticRegression(penalty = 'l1'),\n",
    "    \"Decision Tree\":DecisionTreeClassifier(),\n",
    "    \"Random Forest\":RandomForestClassifier(),\n",
    "    \"Naive Bayes\":MultinomialNB()\n",
    "}\n",
    "\n",
    "for key,value in classifiers.items():\n",
    "    clf = value\n",
    "    scores = cross_val_score(clf,x,y,cv=5)\n",
    "    print(\"{}:{}\".format(key,np.mean(scores)))\n",
    "    \n"
   ]
  },
  {
   "cell_type": "code",
   "execution_count": 12,
   "metadata": {},
   "outputs": [
    {
     "name": "stderr",
     "output_type": "stream",
     "text": [
      "C:\\Users\\Dhruv\\Downloads\\WPy-3662\\python-3.6.6.amd64\\lib\\site-packages\\matplotlib\\figure.py:457: UserWarning: matplotlib is currently using a non-GUI backend, so cannot show the figure\n",
      "  \"matplotlib is currently using a non-GUI backend, \"\n"
     ]
    },
    {
     "data": {
      "image/png": "[encoded data removed]",
      "text/plain": [
       "<Figure size 720x720 with 5 Axes>"
      ]
     },
     "metadata": {
      "needs_background": "light"
     },
     "output_type": "display_data"
    }
   ],
   "source": [
    "fig,axes = plt.subplots(1,5,figsize=(10,10))\n",
    "columns = list(x.head(0))\n",
    "for i,ax in enumerate(axes.flat):\n",
    "    ax.hist(x[columns[i]])\n",
    "    ax.set_title(columns[i])\n",
    "    \n",
    "fig.show()   \n"
   ]
  },
  {
   "cell_type": "code",
   "execution_count": 13,
   "metadata": {},
   "outputs": [],
   "source": [
    "import seaborn as sns"
   ]
  },
  {
   "cell_type": "code",
   "execution_count": null,
   "metadata": {},
   "outputs": [],
   "source": []
  },
  {
   "cell_type": "code",
   "execution_count": 14,
   "metadata": {},
   "outputs": [
    {
     "name": "stdout",
     "output_type": "stream",
     "text": [
      "(371, 5)\n"
     ]
    }
   ],
   "source": [
    "print(x.shape)"
   ]
  },
  {
   "cell_type": "code",
   "execution_count": 15,
   "metadata": {},
   "outputs": [],
   "source": [
    "clf = SVC(kernel='rbf')"
   ]
  },
  {
   "cell_type": "code",
   "execution_count": 16,
   "metadata": {},
   "outputs": [
    {
     "data": {
      "text/plain": [
       "SVC(C=1.0, cache_size=200, class_weight=None, coef0=0.0,\n",
       "  decision_function_shape='ovr', degree=3, gamma='auto', kernel='rbf',\n",
       "  max_iter=-1, probability=False, random_state=None, shrinking=True,\n",
       "  tol=0.001, verbose=False)"
      ]
     },
     "execution_count": 16,
     "metadata": {},
     "output_type": "execute_result"
    }
   ],
   "source": [
    "clf.fit(x,y)"
   ]
  },
  {
   "cell_type": "code",
   "execution_count": 17,
   "metadata": {},
   "outputs": [
    {
     "name": "stdout",
     "output_type": "stream",
     "text": [
      "   bone_length  rotting_flesh  hair_length  has_soul  color\n",
      "0     0.471774       0.387937     0.706087  0.698537    0.0\n",
      "1     0.427332       0.645024     0.565558  0.451462    0.5\n",
      "2     0.549602       0.491931     0.660387  0.449809    0.0\n",
      "3     0.638095       0.682867     0.471409  0.356924    0.5\n",
      "4     0.361762       0.583997     0.377256  0.276364    0.0\n"
     ]
    }
   ],
   "source": [
    "\n",
    "print(test.head())\n",
    "\n"
   ]
  },
  {
   "cell_type": "code",
   "execution_count": 18,
   "metadata": {},
   "outputs": [
    {
     "name": "stdout",
     "output_type": "stream",
     "text": [
      "[1 2 1 0 0 0 1 1 2 1]\n"
     ]
    }
   ],
   "source": [
    "predictions = clf.predict(test)\n",
    "print(predictions[:10])"
   ]
  },
  {
   "cell_type": "code",
   "execution_count": 19,
   "metadata": {},
   "outputs": [
    {
     "name": "stderr",
     "output_type": "stream",
     "text": [
      "C:\\Users\\Dhruv\\Downloads\\WPy-3662\\python-3.6.6.amd64\\lib\\site-packages\\sklearn\\preprocessing\\label.py:151: DeprecationWarning: The truth value of an empty array is ambiguous. Returning False, but in future this will result in an error. Use `array.size > 0` to check that an array is not empty.\n",
      "  if diff:\n"
     ]
    }
   ],
   "source": [
    "predictions = le.inverse_transform(predictions)"
   ]
  },
  {
   "cell_type": "code",
   "execution_count": 20,
   "metadata": {},
   "outputs": [
    {
     "name": "stdout",
     "output_type": "stream",
     "text": [
      "['Ghoul' 'Goblin' 'Ghoul' 'Ghost' 'Ghost' 'Ghost' 'Ghoul' 'Ghoul' 'Goblin'\n",
      " 'Ghoul' 'Ghost' 'Ghoul' 'Goblin' 'Ghost' 'Ghoul' 'Ghost' 'Ghoul' 'Ghost'\n",
      " 'Ghost' 'Ghoul' 'Ghoul' 'Goblin' 'Ghoul' 'Goblin' 'Goblin' 'Goblin'\n",
      " 'Ghoul' 'Goblin' 'Ghoul' 'Ghoul' 'Goblin' 'Ghoul' 'Ghoul' 'Goblin'\n",
      " 'Goblin' 'Ghoul' 'Ghost' 'Goblin' 'Ghost' 'Ghoul' 'Goblin' 'Ghoul'\n",
      " 'Goblin' 'Ghoul' 'Goblin' 'Ghoul' 'Ghoul' 'Ghoul' 'Ghoul' 'Goblin'\n",
      " 'Goblin' 'Ghoul' 'Ghost' 'Goblin' 'Goblin' 'Ghost' 'Goblin' 'Ghoul'\n",
      " 'Ghoul' 'Ghost' 'Ghoul' 'Ghoul' 'Ghost' 'Goblin' 'Ghoul' 'Ghoul' 'Ghoul'\n",
      " 'Ghoul' 'Goblin' 'Ghoul' 'Goblin' 'Ghost' 'Ghoul' 'Ghoul' 'Goblin'\n",
      " 'Ghoul' 'Ghoul' 'Ghoul' 'Ghost' 'Goblin' 'Ghost' 'Goblin' 'Ghoul' 'Ghoul'\n",
      " 'Ghost' 'Ghost' 'Ghost' 'Goblin' 'Ghost' 'Ghost' 'Ghost' 'Ghost' 'Goblin'\n",
      " 'Goblin' 'Ghost' 'Ghost' 'Goblin' 'Goblin' 'Goblin' 'Goblin' 'Goblin'\n",
      " 'Goblin' 'Ghoul' 'Ghost' 'Ghoul' 'Ghoul' 'Ghoul' 'Goblin' 'Ghoul' 'Ghoul'\n",
      " 'Ghost' 'Goblin' 'Goblin' 'Goblin' 'Ghoul' 'Ghost' 'Goblin' 'Goblin'\n",
      " 'Ghoul' 'Ghost' 'Goblin' 'Ghost' 'Ghost' 'Ghoul' 'Ghoul' 'Ghost' 'Ghost'\n",
      " 'Ghost' 'Ghoul' 'Ghoul' 'Ghost' 'Goblin' 'Goblin' 'Ghoul' 'Goblin'\n",
      " 'Ghoul' 'Ghoul' 'Ghoul' 'Goblin' 'Ghost' 'Ghoul' 'Ghost' 'Ghost' 'Ghoul'\n",
      " 'Ghoul' 'Ghost' 'Ghoul' 'Ghost' 'Ghost' 'Ghost' 'Ghoul' 'Ghoul' 'Ghoul'\n",
      " 'Goblin' 'Goblin' 'Ghost' 'Ghoul' 'Ghoul' 'Ghost' 'Ghoul' 'Ghoul' 'Ghoul'\n",
      " 'Goblin' 'Goblin' 'Ghost' 'Ghost' 'Goblin' 'Ghost' 'Goblin' 'Ghost'\n",
      " 'Ghost' 'Ghoul' 'Ghost' 'Goblin' 'Ghoul' 'Ghoul' 'Ghost' 'Ghoul' 'Ghoul'\n",
      " 'Ghoul' 'Ghost' 'Ghost' 'Ghoul' 'Ghost' 'Ghost' 'Goblin' 'Goblin' 'Ghoul'\n",
      " 'Ghoul' 'Ghost' 'Ghost' 'Ghoul' 'Goblin' 'Ghost' 'Ghoul' 'Goblin'\n",
      " 'Goblin' 'Goblin' 'Ghoul' 'Ghoul' 'Ghost' 'Ghost' 'Ghost' 'Ghost' 'Ghoul'\n",
      " 'Ghost' 'Goblin' 'Ghost' 'Goblin' 'Ghoul' 'Goblin' 'Ghost' 'Ghost'\n",
      " 'Ghost' 'Goblin' 'Goblin' 'Ghoul' 'Ghost' 'Ghoul' 'Goblin' 'Goblin'\n",
      " 'Goblin' 'Goblin' 'Ghoul' 'Ghoul' 'Goblin' 'Ghost' 'Ghost' 'Goblin'\n",
      " 'Ghost' 'Goblin' 'Goblin' 'Ghost' 'Ghost' 'Ghost' 'Ghoul' 'Ghost' 'Ghoul'\n",
      " 'Ghoul' 'Goblin' 'Ghost' 'Ghost' 'Ghost' 'Ghost' 'Goblin' 'Ghost'\n",
      " 'Goblin' 'Ghost' 'Ghost' 'Goblin' 'Ghost' 'Ghost' 'Ghost' 'Ghost' 'Ghoul'\n",
      " 'Ghoul' 'Ghost' 'Ghoul' 'Goblin' 'Ghost' 'Ghost' 'Goblin' 'Ghost'\n",
      " 'Goblin' 'Goblin' 'Ghoul' 'Ghoul' 'Ghoul' 'Ghost' 'Ghost' 'Ghoul'\n",
      " 'Goblin' 'Ghost' 'Goblin' 'Ghoul' 'Ghoul' 'Goblin' 'Ghoul' 'Goblin'\n",
      " 'Ghost' 'Ghost' 'Goblin' 'Ghoul' 'Ghoul' 'Ghoul' 'Goblin' 'Ghost' 'Ghoul'\n",
      " 'Ghost' 'Ghost' 'Ghoul' 'Ghost' 'Ghoul' 'Ghoul' 'Goblin' 'Ghoul' 'Ghost'\n",
      " 'Goblin' 'Ghost' 'Ghoul' 'Goblin' 'Goblin' 'Ghost' 'Ghost' 'Ghoul'\n",
      " 'Goblin' 'Ghoul' 'Goblin' 'Ghost' 'Goblin' 'Ghoul' 'Ghoul' 'Goblin'\n",
      " 'Ghost' 'Ghost' 'Ghoul' 'Goblin' 'Ghost' 'Ghost' 'Ghoul' 'Ghost' 'Ghost'\n",
      " 'Ghoul' 'Goblin' 'Ghost' 'Goblin' 'Ghost' 'Goblin' 'Ghost' 'Ghoul'\n",
      " 'Ghoul' 'Goblin' 'Goblin' 'Ghost' 'Ghost' 'Ghoul' 'Ghost' 'Ghoul' 'Ghoul'\n",
      " 'Ghoul' 'Ghoul' 'Goblin' 'Ghoul' 'Goblin' 'Ghost' 'Goblin' 'Ghost'\n",
      " 'Ghoul' 'Ghost' 'Ghoul' 'Ghoul' 'Ghost' 'Ghoul' 'Ghost' 'Ghoul' 'Ghoul'\n",
      " 'Ghoul' 'Ghost' 'Ghost' 'Ghoul' 'Goblin' 'Ghost' 'Goblin' 'Ghost' 'Ghost'\n",
      " 'Ghoul' 'Ghoul' 'Ghoul' 'Goblin' 'Ghoul' 'Ghost' 'Ghost' 'Ghoul' 'Ghost'\n",
      " 'Goblin' 'Ghost' 'Ghoul' 'Goblin' 'Goblin' 'Ghoul' 'Ghoul' 'Ghost'\n",
      " 'Ghost' 'Goblin' 'Goblin' 'Ghost' 'Ghost' 'Ghost' 'Goblin' 'Ghost'\n",
      " 'Ghoul' 'Ghoul' 'Ghost' 'Goblin' 'Ghost' 'Ghoul' 'Ghoul' 'Goblin' 'Ghost'\n",
      " 'Ghoul' 'Goblin' 'Ghoul' 'Goblin' 'Ghoul' 'Ghost' 'Ghoul' 'Ghoul' 'Ghost'\n",
      " 'Goblin' 'Ghost' 'Ghost' 'Goblin' 'Ghoul' 'Ghost' 'Ghoul' 'Ghost'\n",
      " 'Goblin' 'Ghoul' 'Goblin' 'Ghost' 'Ghost' 'Ghoul' 'Ghoul' 'Goblin'\n",
      " 'Ghost' 'Ghost' 'Goblin' 'Goblin' 'Ghoul' 'Ghost' 'Goblin' 'Goblin'\n",
      " 'Goblin' 'Goblin' 'Goblin' 'Ghoul' 'Goblin' 'Ghost' 'Goblin' 'Ghost'\n",
      " 'Ghoul' 'Ghoul' 'Ghost' 'Ghost' 'Ghost' 'Ghoul' 'Ghost' 'Goblin' 'Goblin'\n",
      " 'Ghoul' 'Ghoul' 'Ghoul' 'Ghoul' 'Goblin' 'Goblin' 'Goblin' 'Goblin'\n",
      " 'Ghost' 'Ghoul' 'Goblin' 'Ghost' 'Ghost' 'Ghoul' 'Ghoul' 'Goblin' 'Ghoul'\n",
      " 'Ghost' 'Ghoul' 'Ghoul' 'Ghost' 'Ghoul' 'Ghoul' 'Goblin' 'Ghoul' 'Ghost'\n",
      " 'Ghost' 'Goblin' 'Ghost' 'Ghost' 'Goblin' 'Ghoul' 'Ghoul' 'Ghost'\n",
      " 'Goblin' 'Ghost' 'Goblin' 'Ghost' 'Ghost' 'Ghost' 'Ghoul' 'Ghost' 'Ghoul'\n",
      " 'Ghoul' 'Ghost' 'Ghoul' 'Ghost' 'Ghoul' 'Ghoul' 'Goblin' 'Ghost' 'Goblin'\n",
      " 'Ghost' 'Ghost' 'Ghoul' 'Ghoul' 'Goblin' 'Ghoul' 'Ghost' 'Ghoul' 'Goblin'\n",
      " 'Goblin' 'Ghoul' 'Ghost' 'Ghost' 'Ghoul' 'Ghoul' 'Ghoul' 'Goblin'\n",
      " 'Goblin' 'Ghost' 'Ghoul' 'Ghoul' 'Ghoul' 'Ghoul' 'Goblin' 'Ghost' 'Ghoul'\n",
      " 'Ghost' 'Ghost']\n"
     ]
    }
   ],
   "source": [
    "print(predictions)"
   ]
  },
  {
   "cell_type": "code",
   "execution_count": 21,
   "metadata": {},
   "outputs": [],
   "source": [
    "df = pd.DataFrame()\n",
    "df['id']= test_id\n",
    "df['type'] = predictions"
   ]
  },
  {
   "cell_type": "code",
   "execution_count": 22,
   "metadata": {},
   "outputs": [
    {
     "name": "stdout",
     "output_type": "stream",
     "text": [
      "   id    type\n",
      "0   3   Ghoul\n",
      "1   6  Goblin\n",
      "2   9   Ghoul\n",
      "3  10   Ghost\n",
      "4  13   Ghost\n"
     ]
    }
   ],
   "source": [
    "print(df.head())"
   ]
  },
  {
   "cell_type": "code",
   "execution_count": 23,
   "metadata": {},
   "outputs": [],
   "source": [
    "df.to_csv('submission.csv',index = False)"
   ]
  },
  {
   "cell_type": "code",
   "execution_count": 24,
   "metadata": {},
   "outputs": [
    {
     "data": {
      "text/plain": [
       "<matplotlib.collections.PathCollection at 0x1b643fd4d68>"
      ]
     },
     "execution_count": 24,
     "metadata": {},
     "output_type": "execute_result"
    },
    {
     "data": {
      "image/png": "[encoded data removed]",
      "text/plain": [
       "<Figure size 432x288 with 1 Axes>"
      ]
     },
     "metadata": {
      "needs_background": "light"
     },
     "output_type": "display_data"
    }
   ],
   "source": [
    "plt.scatter(x['bone_length'],x['hair_length'])"
   ]
  },
  {
   "cell_type": "code",
   "execution_count": 29,
   "metadata": {},
   "outputs": [
    {
     "name": "stderr",
     "output_type": "stream",
     "text": [
      "C:\\Users\\Dhruv\\Downloads\\WPy-3662\\python-3.6.6.amd64\\lib\\site-packages\\sklearn\\preprocessing\\label.py:151: DeprecationWarning: The truth value of an empty array is ambiguous. Returning False, but in future this will result in an error. Use `array.size > 0` to check that an array is not empty.\n",
      "  if diff:\n",
      "C:\\Users\\Dhruv\\Downloads\\WPy-3662\\python-3.6.6.amd64\\lib\\site-packages\\sklearn\\preprocessing\\label.py:151: DeprecationWarning: The truth value of an empty array is ambiguous. Returning False, but in future this will result in an error. Use `array.size > 0` to check that an array is not empty.\n",
      "  if diff:\n",
      "C:\\Users\\Dhruv\\Downloads\\WPy-3662\\python-3.6.6.amd64\\lib\\site-packages\\sklearn\\preprocessing\\label.py:151: DeprecationWarning: The truth value of an empty array is ambiguous. Returning False, but in future this will result in an error. Use `array.size > 0` to check that an array is not empty.\n",
      "  if diff:\n",
      "C:\\Users\\Dhruv\\Downloads\\WPy-3662\\python-3.6.6.amd64\\lib\\site-packages\\sklearn\\preprocessing\\label.py:151: DeprecationWarning: The truth value of an empty array is ambiguous. Returning False, but in future this will result in an error. Use `array.size > 0` to check that an array is not empty.\n",
      "  if diff:\n"
     ]
    },
    {
     "name": "stdout",
     "output_type": "stream",
     "text": [
      "0.74643070467728\n"
     ]
    },
    {
     "name": "stderr",
     "output_type": "stream",
     "text": [
      "C:\\Users\\Dhruv\\Downloads\\WPy-3662\\python-3.6.6.amd64\\lib\\site-packages\\sklearn\\preprocessing\\label.py:151: DeprecationWarning: The truth value of an empty array is ambiguous. Returning False, but in future this will result in an error. Use `array.size > 0` to check that an array is not empty.\n",
      "  if diff:\n"
     ]
    }
   ],
   "source": [
    "from sklearn.ensemble import VotingClassifier\n",
    "names = [ \"SVM Linear\",\"Logistic Regression\",\"RF\",\"KNN\"]\n",
    "\n",
    "classifiers = [\n",
    "   \n",
    "    SVC(kernel = 'linear'),\n",
    "    LogisticRegression(penalty = 'l1'),\n",
    "    RandomForestClassifier(),\n",
    "    KNeighborsClassifier()\n",
    "    \n",
    "    \n",
    "    \n",
    "]\n",
    "models = list(zip(names,classifiers))\n",
    "model = VotingClassifier(estimators = models, voting = 'hard',n_jobs = -1)\n",
    "scores = cross_val_score(model,x,y,cv=5)\n",
    "print(\"{}\".format(np.mean(scores)))"
   ]
  },
  {
   "cell_type": "code",
   "execution_count": 26,
   "metadata": {},
   "outputs": [
    {
     "name": "stderr",
     "output_type": "stream",
     "text": [
      "C:\\Users\\Dhruv\\Downloads\\WPy-3662\\python-3.6.6.amd64\\lib\\site-packages\\sklearn\\preprocessing\\label.py:151: DeprecationWarning: The truth value of an empty array is ambiguous. Returning False, but in future this will result in an error. Use `array.size > 0` to check that an array is not empty.\n",
      "  if diff:\n",
      "C:\\Users\\Dhruv\\Downloads\\WPy-3662\\python-3.6.6.amd64\\lib\\site-packages\\sklearn\\preprocessing\\label.py:151: DeprecationWarning: The truth value of an empty array is ambiguous. Returning False, but in future this will result in an error. Use `array.size > 0` to check that an array is not empty.\n",
      "  if diff:\n"
     ]
    }
   ],
   "source": [
    "model.fit(x,y)\n",
    "predictions = model.predict(test)\n",
    "predictions = le.inverse_transform(predictions)\n",
    "df = pd.DataFrame()\n",
    "df['id']= test_id\n",
    "df['type'] = predictions\n",
    "df.to_csv('submission.csv',index = False)\n",
    "\n"
   ]
  },
  {
   "cell_type": "code",
   "execution_count": null,
   "metadata": {},
   "outputs": [],
   "source": []
  }
 ],
 "metadata": {
  "kernelspec": {
   "display_name": "Python 3",
   "language": "python",
   "name": "python3"
  },
  "language_info": {
   "codemirror_mode": {
    "name": "ipython",
    "version": 3
   },
   "file_extension": ".py",
   "mimetype": "text/x-python",
   "name": "python",
   "nbconvert_exporter": "python",
   "pygments_lexer": "ipython3",
   "version": "3.6.6"
  }
 },
 "nbformat": 4,
 "nbformat_minor": 2
}
